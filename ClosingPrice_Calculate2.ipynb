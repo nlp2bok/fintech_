{
  "nbformat": 4,
  "nbformat_minor": 0,
  "metadata": {
    "colab": {
      "name": "ClosingPrice_Calculate2.ipynb",
      "version": "0.3.2",
      "provenance": [],
      "include_colab_link": true
    },
    "language_info": {
      "codemirror_mode": {
        "name": "ipython",
        "version": 3
      },
      "file_extension": ".py",
      "mimetype": "text/x-python",
      "name": "python",
      "nbconvert_exporter": "python",
      "pygments_lexer": "ipython3",
      "version": "3.6.5"
    },
    "kernelspec": {
      "display_name": "Python 3",
      "language": "python",
      "name": "python3"
    }
  },
  "cells": [
    {
      "cell_type": "markdown",
      "metadata": {
        "id": "view-in-github",
        "colab_type": "text"
      },
      "source": [
        "<a href=\"https://colab.research.google.com/github/nlp2bok/fintech_/blob/wsy_dev/ClosingPrice_Calculate2.ipynb\" target=\"_parent\"><img src=\"https://colab.research.google.com/assets/colab-badge.svg\" alt=\"Open In Colab\"/></a>"
      ]
    },
    {
      "cell_type": "markdown",
      "metadata": {
        "id": "iUAhwgNF6bfF",
        "colab_type": "text"
      },
      "source": [
        "#1. 콜금리 데이터에서 제외된 주말/공휴일 값은 전날 값으로 채워준다."
      ]
    },
    {
      "cell_type": "code",
      "metadata": {
        "id": "ZkRSxrCC6bfG",
        "colab_type": "code",
        "colab": {}
      },
      "source": [
        "#20180101~20181231\n",
        "import pandas as pd"
      ],
      "execution_count": 0,
      "outputs": []
    },
    {
      "cell_type": "code",
      "metadata": {
        "id": "pkkrE_726bfJ",
        "colab_type": "code",
        "colab": {}
      },
      "source": [
        "dt_index = pd.date_range(start='20180101', end='20181231')\n",
        "dt_list = dt_index.strftime(\"%Y.%m.%d\").tolist()\n",
        "\n",
        "myCalendar = pd.DataFrame(columns = [\"date\"])"
      ],
      "execution_count": 0,
      "outputs": []
    },
    {
      "cell_type": "code",
      "metadata": {
        "id": "qvwz0npz6bfL",
        "colab_type": "code",
        "colab": {}
      },
      "source": [
        "values = []\n",
        "for i in dt_list:\n",
        "    values.append(i)"
      ],
      "execution_count": 0,
      "outputs": []
    },
    {
      "cell_type": "code",
      "metadata": {
        "id": "RznotD946bfN",
        "colab_type": "code",
        "colab": {}
      },
      "source": [
        "myCalendar[\"date\"] = values"
      ],
      "execution_count": 0,
      "outputs": []
    },
    {
      "cell_type": "code",
      "metadata": {
        "id": "MdoCad4Z6bfO",
        "colab_type": "code",
        "outputId": "8b77d935-64e2-41fc-d9f9-23366555636a",
        "colab": {
          "base_uri": "https://localhost:8080/",
          "height": 404
        }
      },
      "source": [
        "mycall = pd.read_csv(\"new_call_rate2018.csv\", encoding=\"utf-8\")\n",
        "mycall = mycall.sort_values(\"date\")"
      ],
      "execution_count": 0,
      "outputs": [
        {
          "output_type": "error",
          "ename": "FileNotFoundError",
          "evalue": "ignored",
          "traceback": [
            "\u001b[0;31m---------------------------------------------------------------------------\u001b[0m",
            "\u001b[0;31mFileNotFoundError\u001b[0m                         Traceback (most recent call last)",
            "\u001b[0;32m<ipython-input-5-8acd88b72fff>\u001b[0m in \u001b[0;36m<module>\u001b[0;34m()\u001b[0m\n\u001b[0;32m----> 1\u001b[0;31m \u001b[0mmycall\u001b[0m \u001b[0;34m=\u001b[0m \u001b[0mpd\u001b[0m\u001b[0;34m.\u001b[0m\u001b[0mread_csv\u001b[0m\u001b[0;34m(\u001b[0m\u001b[0;34m\"new_call_rate2018.csv\"\u001b[0m\u001b[0;34m,\u001b[0m \u001b[0mencoding\u001b[0m\u001b[0;34m=\u001b[0m\u001b[0;34m\"utf-8\"\u001b[0m\u001b[0;34m)\u001b[0m\u001b[0;34m\u001b[0m\u001b[0;34m\u001b[0m\u001b[0m\n\u001b[0m\u001b[1;32m      2\u001b[0m \u001b[0mmycall\u001b[0m \u001b[0;34m=\u001b[0m \u001b[0mmycall\u001b[0m\u001b[0;34m.\u001b[0m\u001b[0msort_values\u001b[0m\u001b[0;34m(\u001b[0m\u001b[0;34m\"date\"\u001b[0m\u001b[0;34m)\u001b[0m\u001b[0;34m\u001b[0m\u001b[0;34m\u001b[0m\u001b[0m\n",
            "\u001b[0;32m/usr/local/lib/python3.6/dist-packages/pandas/io/parsers.py\u001b[0m in \u001b[0;36mparser_f\u001b[0;34m(filepath_or_buffer, sep, delimiter, header, names, index_col, usecols, squeeze, prefix, mangle_dupe_cols, dtype, engine, converters, true_values, false_values, skipinitialspace, skiprows, skipfooter, nrows, na_values, keep_default_na, na_filter, verbose, skip_blank_lines, parse_dates, infer_datetime_format, keep_date_col, date_parser, dayfirst, iterator, chunksize, compression, thousands, decimal, lineterminator, quotechar, quoting, doublequote, escapechar, comment, encoding, dialect, tupleize_cols, error_bad_lines, warn_bad_lines, delim_whitespace, low_memory, memory_map, float_precision)\u001b[0m\n\u001b[1;32m    700\u001b[0m                     skip_blank_lines=skip_blank_lines)\n\u001b[1;32m    701\u001b[0m \u001b[0;34m\u001b[0m\u001b[0m\n\u001b[0;32m--> 702\u001b[0;31m         \u001b[0;32mreturn\u001b[0m \u001b[0m_read\u001b[0m\u001b[0;34m(\u001b[0m\u001b[0mfilepath_or_buffer\u001b[0m\u001b[0;34m,\u001b[0m \u001b[0mkwds\u001b[0m\u001b[0;34m)\u001b[0m\u001b[0;34m\u001b[0m\u001b[0;34m\u001b[0m\u001b[0m\n\u001b[0m\u001b[1;32m    703\u001b[0m \u001b[0;34m\u001b[0m\u001b[0m\n\u001b[1;32m    704\u001b[0m     \u001b[0mparser_f\u001b[0m\u001b[0;34m.\u001b[0m\u001b[0m__name__\u001b[0m \u001b[0;34m=\u001b[0m \u001b[0mname\u001b[0m\u001b[0;34m\u001b[0m\u001b[0;34m\u001b[0m\u001b[0m\n",
            "\u001b[0;32m/usr/local/lib/python3.6/dist-packages/pandas/io/parsers.py\u001b[0m in \u001b[0;36m_read\u001b[0;34m(filepath_or_buffer, kwds)\u001b[0m\n\u001b[1;32m    427\u001b[0m \u001b[0;34m\u001b[0m\u001b[0m\n\u001b[1;32m    428\u001b[0m     \u001b[0;31m# Create the parser.\u001b[0m\u001b[0;34m\u001b[0m\u001b[0;34m\u001b[0m\u001b[0;34m\u001b[0m\u001b[0m\n\u001b[0;32m--> 429\u001b[0;31m     \u001b[0mparser\u001b[0m \u001b[0;34m=\u001b[0m \u001b[0mTextFileReader\u001b[0m\u001b[0;34m(\u001b[0m\u001b[0mfilepath_or_buffer\u001b[0m\u001b[0;34m,\u001b[0m \u001b[0;34m**\u001b[0m\u001b[0mkwds\u001b[0m\u001b[0;34m)\u001b[0m\u001b[0;34m\u001b[0m\u001b[0;34m\u001b[0m\u001b[0m\n\u001b[0m\u001b[1;32m    430\u001b[0m \u001b[0;34m\u001b[0m\u001b[0m\n\u001b[1;32m    431\u001b[0m     \u001b[0;32mif\u001b[0m \u001b[0mchunksize\u001b[0m \u001b[0;32mor\u001b[0m \u001b[0miterator\u001b[0m\u001b[0;34m:\u001b[0m\u001b[0;34m\u001b[0m\u001b[0;34m\u001b[0m\u001b[0m\n",
            "\u001b[0;32m/usr/local/lib/python3.6/dist-packages/pandas/io/parsers.py\u001b[0m in \u001b[0;36m__init__\u001b[0;34m(self, f, engine, **kwds)\u001b[0m\n\u001b[1;32m    893\u001b[0m             \u001b[0mself\u001b[0m\u001b[0;34m.\u001b[0m\u001b[0moptions\u001b[0m\u001b[0;34m[\u001b[0m\u001b[0;34m'has_index_names'\u001b[0m\u001b[0;34m]\u001b[0m \u001b[0;34m=\u001b[0m \u001b[0mkwds\u001b[0m\u001b[0;34m[\u001b[0m\u001b[0;34m'has_index_names'\u001b[0m\u001b[0;34m]\u001b[0m\u001b[0;34m\u001b[0m\u001b[0;34m\u001b[0m\u001b[0m\n\u001b[1;32m    894\u001b[0m \u001b[0;34m\u001b[0m\u001b[0m\n\u001b[0;32m--> 895\u001b[0;31m         \u001b[0mself\u001b[0m\u001b[0;34m.\u001b[0m\u001b[0m_make_engine\u001b[0m\u001b[0;34m(\u001b[0m\u001b[0mself\u001b[0m\u001b[0;34m.\u001b[0m\u001b[0mengine\u001b[0m\u001b[0;34m)\u001b[0m\u001b[0;34m\u001b[0m\u001b[0;34m\u001b[0m\u001b[0m\n\u001b[0m\u001b[1;32m    896\u001b[0m \u001b[0;34m\u001b[0m\u001b[0m\n\u001b[1;32m    897\u001b[0m     \u001b[0;32mdef\u001b[0m \u001b[0mclose\u001b[0m\u001b[0;34m(\u001b[0m\u001b[0mself\u001b[0m\u001b[0;34m)\u001b[0m\u001b[0;34m:\u001b[0m\u001b[0;34m\u001b[0m\u001b[0;34m\u001b[0m\u001b[0m\n",
            "\u001b[0;32m/usr/local/lib/python3.6/dist-packages/pandas/io/parsers.py\u001b[0m in \u001b[0;36m_make_engine\u001b[0;34m(self, engine)\u001b[0m\n\u001b[1;32m   1120\u001b[0m     \u001b[0;32mdef\u001b[0m \u001b[0m_make_engine\u001b[0m\u001b[0;34m(\u001b[0m\u001b[0mself\u001b[0m\u001b[0;34m,\u001b[0m \u001b[0mengine\u001b[0m\u001b[0;34m=\u001b[0m\u001b[0;34m'c'\u001b[0m\u001b[0;34m)\u001b[0m\u001b[0;34m:\u001b[0m\u001b[0;34m\u001b[0m\u001b[0;34m\u001b[0m\u001b[0m\n\u001b[1;32m   1121\u001b[0m         \u001b[0;32mif\u001b[0m \u001b[0mengine\u001b[0m \u001b[0;34m==\u001b[0m \u001b[0;34m'c'\u001b[0m\u001b[0;34m:\u001b[0m\u001b[0;34m\u001b[0m\u001b[0;34m\u001b[0m\u001b[0m\n\u001b[0;32m-> 1122\u001b[0;31m             \u001b[0mself\u001b[0m\u001b[0;34m.\u001b[0m\u001b[0m_engine\u001b[0m \u001b[0;34m=\u001b[0m \u001b[0mCParserWrapper\u001b[0m\u001b[0;34m(\u001b[0m\u001b[0mself\u001b[0m\u001b[0;34m.\u001b[0m\u001b[0mf\u001b[0m\u001b[0;34m,\u001b[0m \u001b[0;34m**\u001b[0m\u001b[0mself\u001b[0m\u001b[0;34m.\u001b[0m\u001b[0moptions\u001b[0m\u001b[0;34m)\u001b[0m\u001b[0;34m\u001b[0m\u001b[0;34m\u001b[0m\u001b[0m\n\u001b[0m\u001b[1;32m   1123\u001b[0m         \u001b[0;32melse\u001b[0m\u001b[0;34m:\u001b[0m\u001b[0;34m\u001b[0m\u001b[0;34m\u001b[0m\u001b[0m\n\u001b[1;32m   1124\u001b[0m             \u001b[0;32mif\u001b[0m \u001b[0mengine\u001b[0m \u001b[0;34m==\u001b[0m \u001b[0;34m'python'\u001b[0m\u001b[0;34m:\u001b[0m\u001b[0;34m\u001b[0m\u001b[0;34m\u001b[0m\u001b[0m\n",
            "\u001b[0;32m/usr/local/lib/python3.6/dist-packages/pandas/io/parsers.py\u001b[0m in \u001b[0;36m__init__\u001b[0;34m(self, src, **kwds)\u001b[0m\n\u001b[1;32m   1851\u001b[0m         \u001b[0mkwds\u001b[0m\u001b[0;34m[\u001b[0m\u001b[0;34m'usecols'\u001b[0m\u001b[0;34m]\u001b[0m \u001b[0;34m=\u001b[0m \u001b[0mself\u001b[0m\u001b[0;34m.\u001b[0m\u001b[0musecols\u001b[0m\u001b[0;34m\u001b[0m\u001b[0;34m\u001b[0m\u001b[0m\n\u001b[1;32m   1852\u001b[0m \u001b[0;34m\u001b[0m\u001b[0m\n\u001b[0;32m-> 1853\u001b[0;31m         \u001b[0mself\u001b[0m\u001b[0;34m.\u001b[0m\u001b[0m_reader\u001b[0m \u001b[0;34m=\u001b[0m \u001b[0mparsers\u001b[0m\u001b[0;34m.\u001b[0m\u001b[0mTextReader\u001b[0m\u001b[0;34m(\u001b[0m\u001b[0msrc\u001b[0m\u001b[0;34m,\u001b[0m \u001b[0;34m**\u001b[0m\u001b[0mkwds\u001b[0m\u001b[0;34m)\u001b[0m\u001b[0;34m\u001b[0m\u001b[0;34m\u001b[0m\u001b[0m\n\u001b[0m\u001b[1;32m   1854\u001b[0m         \u001b[0mself\u001b[0m\u001b[0;34m.\u001b[0m\u001b[0munnamed_cols\u001b[0m \u001b[0;34m=\u001b[0m \u001b[0mself\u001b[0m\u001b[0;34m.\u001b[0m\u001b[0m_reader\u001b[0m\u001b[0;34m.\u001b[0m\u001b[0munnamed_cols\u001b[0m\u001b[0;34m\u001b[0m\u001b[0;34m\u001b[0m\u001b[0m\n\u001b[1;32m   1855\u001b[0m \u001b[0;34m\u001b[0m\u001b[0m\n",
            "\u001b[0;32mpandas/_libs/parsers.pyx\u001b[0m in \u001b[0;36mpandas._libs.parsers.TextReader.__cinit__\u001b[0;34m()\u001b[0m\n",
            "\u001b[0;32mpandas/_libs/parsers.pyx\u001b[0m in \u001b[0;36mpandas._libs.parsers.TextReader._setup_parser_source\u001b[0;34m()\u001b[0m\n",
            "\u001b[0;31mFileNotFoundError\u001b[0m: [Errno 2] File b'new_call_rate2018.csv' does not exist: b'new_call_rate2018.csv'"
          ]
        }
      ]
    },
    {
      "cell_type": "code",
      "metadata": {
        "id": "CczyNthD6bfQ",
        "colab_type": "code",
        "colab": {}
      },
      "source": [
        "mydict = mycall.set_index('date').to_dict()['jongga']"
      ],
      "execution_count": 0,
      "outputs": []
    },
    {
      "cell_type": "code",
      "metadata": {
        "id": "YLMr9jYz6bfS",
        "colab_type": "code",
        "outputId": "cdbe5446-07c5-44a9-ad3b-f6777cd70f54",
        "colab": {}
      },
      "source": [
        "len(mydict)"
      ],
      "execution_count": 0,
      "outputs": [
        {
          "output_type": "execute_result",
          "data": {
            "text/plain": [
              "3232"
            ]
          },
          "metadata": {
            "tags": []
          },
          "execution_count": 71
        }
      ]
    },
    {
      "cell_type": "code",
      "metadata": {
        "id": "sNBBy4oJ6bfX",
        "colab_type": "code",
        "outputId": "4876c717-76fd-4f20-8230-eec412ed88b3",
        "colab": {}
      },
      "source": [
        "mylist = []\n",
        "fData = ''\n",
        "cnt = 0\n",
        "for date in myCalendar[\"date\"]:\n",
        "    #데이터가 있음\n",
        "    if date in mydict :\n",
        "        fData = mydict[date]\n",
        "        mylist.append(fData)\n",
        "        cnt +=1\n",
        "        continue\n",
        "    else:\n",
        "        mylist.append(fData)\n",
        "        #print(str(date) + \"false\")\n",
        "        \n",
        "print(cnt)"
      ],
      "execution_count": 0,
      "outputs": [
        {
          "output_type": "stream",
          "text": [
            "3232\n"
          ],
          "name": "stdout"
        }
      ]
    },
    {
      "cell_type": "code",
      "metadata": {
        "id": "llDxzdnV6bfZ",
        "colab_type": "code",
        "colab": {}
      },
      "source": [
        "myCalendar['cPrice'] = mylist"
      ],
      "execution_count": 0,
      "outputs": []
    },
    {
      "cell_type": "code",
      "metadata": {
        "id": "O-ucD1C76bfb",
        "colab_type": "code",
        "colab": {}
      },
      "source": [
        "#2004년 데이터로 20050101, 20050102로 채워준다.\n",
        "#myCalendar['cPrice'][0] =3.27\n",
        "#myCalendar['cPrice'][1] =3.27"
      ],
      "execution_count": 0,
      "outputs": []
    },
    {
      "cell_type": "code",
      "metadata": {
        "id": "rj1Fgonm6bfd",
        "colab_type": "code",
        "colab": {}
      },
      "source": [
        "myCalendar.to_csv(\"/Users/minhyeon/Desktop/cPrice.csv\", header=True, index=False)"
      ],
      "execution_count": 0,
      "outputs": []
    },
    {
      "cell_type": "code",
      "metadata": {
        "id": "DW0BEnoT6bff",
        "colab_type": "code",
        "colab": {}
      },
      "source": [
        "df = pd.read_csv(\"cPrice.csv\", encoding = 'utf-8')"
      ],
      "execution_count": 0,
      "outputs": []
    },
    {
      "cell_type": "code",
      "metadata": {
        "id": "SC-UZ6-u6bfh",
        "colab_type": "code",
        "outputId": "36ead15a-c180-4639-c24c-c8faa282c865",
        "colab": {}
      },
      "source": [
        "#df.head()\n",
        "#3.26\n",
        "df['cPrice'][31]\n",
        "3.29-3.26"
      ],
      "execution_count": 0,
      "outputs": [
        {
          "output_type": "execute_result",
          "data": {
            "text/plain": [
              "0.03000000000000025"
            ]
          },
          "metadata": {
            "tags": []
          },
          "execution_count": 77
        }
      ]
    },
    {
      "cell_type": "markdown",
      "metadata": {
        "id": "IZUYTlTx6bfk",
        "colab_type": "text"
      },
      "source": [
        "#2. 콜금리 데이터를 한달 전 데이터 값을 빼서 변화율을 구한다."
      ]
    },
    {
      "cell_type": "code",
      "metadata": {
        "id": "5MPnukCP6bfl",
        "colab_type": "code",
        "colab": {}
      },
      "source": [
        "cPrice2 = []\n",
        "for i, row in myCalendar.iterrows():\n",
        "    if i<31 :\n",
        "        cPrice2.append(0)\n",
        "    else:\n",
        "        cp1 = myCalendar['cPrice'][i]\n",
        "        cp2 = myCalendar['cPrice'][i-30]\n",
        "        cPrice2.append(float(cp1)-float(cp2))\n",
        "        \n",
        "        "
      ],
      "execution_count": 0,
      "outputs": []
    },
    {
      "cell_type": "code",
      "metadata": {
        "id": "lnNMgAvq6bfn",
        "colab_type": "code",
        "outputId": "dab28437-a490-4898-a0b7-aa05980026f4",
        "colab": {}
      },
      "source": [
        "len(cPrice2)"
      ],
      "execution_count": 0,
      "outputs": [
        {
          "output_type": "execute_result",
          "data": {
            "text/plain": [
              "4779"
            ]
          },
          "metadata": {
            "tags": []
          },
          "execution_count": 79
        }
      ]
    },
    {
      "cell_type": "code",
      "metadata": {
        "id": "6WTrmimT6bfq",
        "colab_type": "code",
        "colab": {}
      },
      "source": [
        "myCalendar['cal_cPrice'] = cPrice2"
      ],
      "execution_count": 0,
      "outputs": []
    },
    {
      "cell_type": "code",
      "metadata": {
        "id": "1P6XSjCs6bft",
        "colab_type": "code",
        "outputId": "604ee953-5dfe-4792-dbf7-9ac491ae7208",
        "colab": {}
      },
      "source": [
        "myCalendar.head(100)"
      ],
      "execution_count": 0,
      "outputs": [
        {
          "output_type": "execute_result",
          "data": {
            "text/html": [
              "<div>\n",
              "<style scoped>\n",
              "    .dataframe tbody tr th:only-of-type {\n",
              "        vertical-align: middle;\n",
              "    }\n",
              "\n",
              "    .dataframe tbody tr th {\n",
              "        vertical-align: top;\n",
              "    }\n",
              "\n",
              "    .dataframe thead th {\n",
              "        text-align: right;\n",
              "    }\n",
              "</style>\n",
              "<table border=\"1\" class=\"dataframe\">\n",
              "  <thead>\n",
              "    <tr style=\"text-align: right;\">\n",
              "      <th></th>\n",
              "      <th>date</th>\n",
              "      <th>cPrice</th>\n",
              "      <th>cal_cPrice</th>\n",
              "    </tr>\n",
              "  </thead>\n",
              "  <tbody>\n",
              "    <tr>\n",
              "      <th>0</th>\n",
              "      <td>2004.12.01</td>\n",
              "      <td>3.26</td>\n",
              "      <td>0.00</td>\n",
              "    </tr>\n",
              "    <tr>\n",
              "      <th>1</th>\n",
              "      <td>2004.12.02</td>\n",
              "      <td>3.26</td>\n",
              "      <td>0.00</td>\n",
              "    </tr>\n",
              "    <tr>\n",
              "      <th>2</th>\n",
              "      <td>2004.12.03</td>\n",
              "      <td>3.26</td>\n",
              "      <td>0.00</td>\n",
              "    </tr>\n",
              "    <tr>\n",
              "      <th>3</th>\n",
              "      <td>2004.12.04</td>\n",
              "      <td>3.26</td>\n",
              "      <td>0.00</td>\n",
              "    </tr>\n",
              "    <tr>\n",
              "      <th>4</th>\n",
              "      <td>2004.12.05</td>\n",
              "      <td>3.26</td>\n",
              "      <td>0.00</td>\n",
              "    </tr>\n",
              "    <tr>\n",
              "      <th>5</th>\n",
              "      <td>2004.12.06</td>\n",
              "      <td>3.23</td>\n",
              "      <td>0.00</td>\n",
              "    </tr>\n",
              "    <tr>\n",
              "      <th>6</th>\n",
              "      <td>2004.12.07</td>\n",
              "      <td>3.19</td>\n",
              "      <td>0.00</td>\n",
              "    </tr>\n",
              "    <tr>\n",
              "      <th>7</th>\n",
              "      <td>2004.12.08</td>\n",
              "      <td>3.27</td>\n",
              "      <td>0.00</td>\n",
              "    </tr>\n",
              "    <tr>\n",
              "      <th>8</th>\n",
              "      <td>2004.12.09</td>\n",
              "      <td>3.27</td>\n",
              "      <td>0.00</td>\n",
              "    </tr>\n",
              "    <tr>\n",
              "      <th>9</th>\n",
              "      <td>2004.12.10</td>\n",
              "      <td>3.28</td>\n",
              "      <td>0.00</td>\n",
              "    </tr>\n",
              "    <tr>\n",
              "      <th>10</th>\n",
              "      <td>2004.12.11</td>\n",
              "      <td>3.28</td>\n",
              "      <td>0.00</td>\n",
              "    </tr>\n",
              "    <tr>\n",
              "      <th>11</th>\n",
              "      <td>2004.12.12</td>\n",
              "      <td>3.28</td>\n",
              "      <td>0.00</td>\n",
              "    </tr>\n",
              "    <tr>\n",
              "      <th>12</th>\n",
              "      <td>2004.12.13</td>\n",
              "      <td>3.28</td>\n",
              "      <td>0.00</td>\n",
              "    </tr>\n",
              "    <tr>\n",
              "      <th>13</th>\n",
              "      <td>2004.12.14</td>\n",
              "      <td>3.28</td>\n",
              "      <td>0.00</td>\n",
              "    </tr>\n",
              "    <tr>\n",
              "      <th>14</th>\n",
              "      <td>2004.12.15</td>\n",
              "      <td>3.28</td>\n",
              "      <td>0.00</td>\n",
              "    </tr>\n",
              "    <tr>\n",
              "      <th>15</th>\n",
              "      <td>2004.12.16</td>\n",
              "      <td>3.28</td>\n",
              "      <td>0.00</td>\n",
              "    </tr>\n",
              "    <tr>\n",
              "      <th>16</th>\n",
              "      <td>2004.12.17</td>\n",
              "      <td>3.28</td>\n",
              "      <td>0.00</td>\n",
              "    </tr>\n",
              "    <tr>\n",
              "      <th>17</th>\n",
              "      <td>2004.12.18</td>\n",
              "      <td>3.28</td>\n",
              "      <td>0.00</td>\n",
              "    </tr>\n",
              "    <tr>\n",
              "      <th>18</th>\n",
              "      <td>2004.12.19</td>\n",
              "      <td>3.28</td>\n",
              "      <td>0.00</td>\n",
              "    </tr>\n",
              "    <tr>\n",
              "      <th>19</th>\n",
              "      <td>2004.12.20</td>\n",
              "      <td>3.29</td>\n",
              "      <td>0.00</td>\n",
              "    </tr>\n",
              "    <tr>\n",
              "      <th>20</th>\n",
              "      <td>2004.12.21</td>\n",
              "      <td>3.20</td>\n",
              "      <td>0.00</td>\n",
              "    </tr>\n",
              "    <tr>\n",
              "      <th>21</th>\n",
              "      <td>2004.12.22</td>\n",
              "      <td>3.19</td>\n",
              "      <td>0.00</td>\n",
              "    </tr>\n",
              "    <tr>\n",
              "      <th>22</th>\n",
              "      <td>2004.12.23</td>\n",
              "      <td>3.28</td>\n",
              "      <td>0.00</td>\n",
              "    </tr>\n",
              "    <tr>\n",
              "      <th>23</th>\n",
              "      <td>2004.12.24</td>\n",
              "      <td>3.29</td>\n",
              "      <td>0.00</td>\n",
              "    </tr>\n",
              "    <tr>\n",
              "      <th>24</th>\n",
              "      <td>2004.12.25</td>\n",
              "      <td>3.29</td>\n",
              "      <td>0.00</td>\n",
              "    </tr>\n",
              "    <tr>\n",
              "      <th>25</th>\n",
              "      <td>2004.12.26</td>\n",
              "      <td>3.29</td>\n",
              "      <td>0.00</td>\n",
              "    </tr>\n",
              "    <tr>\n",
              "      <th>26</th>\n",
              "      <td>2004.12.27</td>\n",
              "      <td>3.29</td>\n",
              "      <td>0.00</td>\n",
              "    </tr>\n",
              "    <tr>\n",
              "      <th>27</th>\n",
              "      <td>2004.12.28</td>\n",
              "      <td>3.27</td>\n",
              "      <td>0.00</td>\n",
              "    </tr>\n",
              "    <tr>\n",
              "      <th>28</th>\n",
              "      <td>2004.12.29</td>\n",
              "      <td>3.26</td>\n",
              "      <td>0.00</td>\n",
              "    </tr>\n",
              "    <tr>\n",
              "      <th>29</th>\n",
              "      <td>2004.12.30</td>\n",
              "      <td>3.28</td>\n",
              "      <td>0.00</td>\n",
              "    </tr>\n",
              "    <tr>\n",
              "      <th>...</th>\n",
              "      <td>...</td>\n",
              "      <td>...</td>\n",
              "      <td>...</td>\n",
              "    </tr>\n",
              "    <tr>\n",
              "      <th>70</th>\n",
              "      <td>2005.02.09</td>\n",
              "      <td>3.18</td>\n",
              "      <td>-0.09</td>\n",
              "    </tr>\n",
              "    <tr>\n",
              "      <th>71</th>\n",
              "      <td>2005.02.10</td>\n",
              "      <td>3.18</td>\n",
              "      <td>-0.10</td>\n",
              "    </tr>\n",
              "    <tr>\n",
              "      <th>72</th>\n",
              "      <td>2005.02.11</td>\n",
              "      <td>3.27</td>\n",
              "      <td>0.00</td>\n",
              "    </tr>\n",
              "    <tr>\n",
              "      <th>73</th>\n",
              "      <td>2005.02.12</td>\n",
              "      <td>3.27</td>\n",
              "      <td>-0.01</td>\n",
              "    </tr>\n",
              "    <tr>\n",
              "      <th>74</th>\n",
              "      <td>2005.02.13</td>\n",
              "      <td>3.27</td>\n",
              "      <td>0.01</td>\n",
              "    </tr>\n",
              "    <tr>\n",
              "      <th>75</th>\n",
              "      <td>2005.02.14</td>\n",
              "      <td>3.26</td>\n",
              "      <td>0.00</td>\n",
              "    </tr>\n",
              "    <tr>\n",
              "      <th>76</th>\n",
              "      <td>2005.02.15</td>\n",
              "      <td>3.26</td>\n",
              "      <td>0.00</td>\n",
              "    </tr>\n",
              "    <tr>\n",
              "      <th>77</th>\n",
              "      <td>2005.02.16</td>\n",
              "      <td>3.26</td>\n",
              "      <td>0.01</td>\n",
              "    </tr>\n",
              "    <tr>\n",
              "      <th>78</th>\n",
              "      <td>2005.02.17</td>\n",
              "      <td>3.27</td>\n",
              "      <td>0.02</td>\n",
              "    </tr>\n",
              "    <tr>\n",
              "      <th>79</th>\n",
              "      <td>2005.02.18</td>\n",
              "      <td>3.26</td>\n",
              "      <td>0.01</td>\n",
              "    </tr>\n",
              "    <tr>\n",
              "      <th>80</th>\n",
              "      <td>2005.02.19</td>\n",
              "      <td>3.26</td>\n",
              "      <td>0.03</td>\n",
              "    </tr>\n",
              "    <tr>\n",
              "      <th>81</th>\n",
              "      <td>2005.02.20</td>\n",
              "      <td>3.26</td>\n",
              "      <td>0.07</td>\n",
              "    </tr>\n",
              "    <tr>\n",
              "      <th>82</th>\n",
              "      <td>2005.02.21</td>\n",
              "      <td>3.26</td>\n",
              "      <td>0.07</td>\n",
              "    </tr>\n",
              "    <tr>\n",
              "      <th>83</th>\n",
              "      <td>2005.02.22</td>\n",
              "      <td>3.22</td>\n",
              "      <td>0.03</td>\n",
              "    </tr>\n",
              "    <tr>\n",
              "      <th>84</th>\n",
              "      <td>2005.02.23</td>\n",
              "      <td>3.28</td>\n",
              "      <td>0.03</td>\n",
              "    </tr>\n",
              "    <tr>\n",
              "      <th>85</th>\n",
              "      <td>2005.02.24</td>\n",
              "      <td>3.27</td>\n",
              "      <td>0.02</td>\n",
              "    </tr>\n",
              "    <tr>\n",
              "      <th>86</th>\n",
              "      <td>2005.02.25</td>\n",
              "      <td>3.28</td>\n",
              "      <td>0.02</td>\n",
              "    </tr>\n",
              "    <tr>\n",
              "      <th>87</th>\n",
              "      <td>2005.02.26</td>\n",
              "      <td>3.28</td>\n",
              "      <td>0.04</td>\n",
              "    </tr>\n",
              "    <tr>\n",
              "      <th>88</th>\n",
              "      <td>2005.02.27</td>\n",
              "      <td>3.28</td>\n",
              "      <td>0.03</td>\n",
              "    </tr>\n",
              "    <tr>\n",
              "      <th>89</th>\n",
              "      <td>2005.02.28</td>\n",
              "      <td>3.28</td>\n",
              "      <td>0.03</td>\n",
              "    </tr>\n",
              "    <tr>\n",
              "      <th>90</th>\n",
              "      <td>2005.03.01</td>\n",
              "      <td>3.28</td>\n",
              "      <td>0.03</td>\n",
              "    </tr>\n",
              "    <tr>\n",
              "      <th>91</th>\n",
              "      <td>2005.03.02</td>\n",
              "      <td>3.28</td>\n",
              "      <td>0.02</td>\n",
              "    </tr>\n",
              "    <tr>\n",
              "      <th>92</th>\n",
              "      <td>2005.03.03</td>\n",
              "      <td>3.27</td>\n",
              "      <td>0.01</td>\n",
              "    </tr>\n",
              "    <tr>\n",
              "      <th>93</th>\n",
              "      <td>2005.03.04</td>\n",
              "      <td>3.25</td>\n",
              "      <td>0.00</td>\n",
              "    </tr>\n",
              "    <tr>\n",
              "      <th>94</th>\n",
              "      <td>2005.03.05</td>\n",
              "      <td>3.25</td>\n",
              "      <td>-0.01</td>\n",
              "    </tr>\n",
              "    <tr>\n",
              "      <th>95</th>\n",
              "      <td>2005.03.06</td>\n",
              "      <td>3.25</td>\n",
              "      <td>0.03</td>\n",
              "    </tr>\n",
              "    <tr>\n",
              "      <th>96</th>\n",
              "      <td>2005.03.07</td>\n",
              "      <td>3.17</td>\n",
              "      <td>-0.05</td>\n",
              "    </tr>\n",
              "    <tr>\n",
              "      <th>97</th>\n",
              "      <td>2005.03.08</td>\n",
              "      <td>3.27</td>\n",
              "      <td>0.05</td>\n",
              "    </tr>\n",
              "    <tr>\n",
              "      <th>98</th>\n",
              "      <td>2005.03.09</td>\n",
              "      <td>3.27</td>\n",
              "      <td>0.09</td>\n",
              "    </tr>\n",
              "    <tr>\n",
              "      <th>99</th>\n",
              "      <td>2005.03.10</td>\n",
              "      <td>3.26</td>\n",
              "      <td>0.08</td>\n",
              "    </tr>\n",
              "  </tbody>\n",
              "</table>\n",
              "<p>100 rows × 3 columns</p>\n",
              "</div>"
            ],
            "text/plain": [
              "          date  cPrice  cal_cPrice\n",
              "0   2004.12.01    3.26        0.00\n",
              "1   2004.12.02    3.26        0.00\n",
              "2   2004.12.03    3.26        0.00\n",
              "3   2004.12.04    3.26        0.00\n",
              "4   2004.12.05    3.26        0.00\n",
              "5   2004.12.06    3.23        0.00\n",
              "6   2004.12.07    3.19        0.00\n",
              "7   2004.12.08    3.27        0.00\n",
              "8   2004.12.09    3.27        0.00\n",
              "9   2004.12.10    3.28        0.00\n",
              "10  2004.12.11    3.28        0.00\n",
              "11  2004.12.12    3.28        0.00\n",
              "12  2004.12.13    3.28        0.00\n",
              "13  2004.12.14    3.28        0.00\n",
              "14  2004.12.15    3.28        0.00\n",
              "15  2004.12.16    3.28        0.00\n",
              "16  2004.12.17    3.28        0.00\n",
              "17  2004.12.18    3.28        0.00\n",
              "18  2004.12.19    3.28        0.00\n",
              "19  2004.12.20    3.29        0.00\n",
              "20  2004.12.21    3.20        0.00\n",
              "21  2004.12.22    3.19        0.00\n",
              "22  2004.12.23    3.28        0.00\n",
              "23  2004.12.24    3.29        0.00\n",
              "24  2004.12.25    3.29        0.00\n",
              "25  2004.12.26    3.29        0.00\n",
              "26  2004.12.27    3.29        0.00\n",
              "27  2004.12.28    3.27        0.00\n",
              "28  2004.12.29    3.26        0.00\n",
              "29  2004.12.30    3.28        0.00\n",
              "..         ...     ...         ...\n",
              "70  2005.02.09    3.18       -0.09\n",
              "71  2005.02.10    3.18       -0.10\n",
              "72  2005.02.11    3.27        0.00\n",
              "73  2005.02.12    3.27       -0.01\n",
              "74  2005.02.13    3.27        0.01\n",
              "75  2005.02.14    3.26        0.00\n",
              "76  2005.02.15    3.26        0.00\n",
              "77  2005.02.16    3.26        0.01\n",
              "78  2005.02.17    3.27        0.02\n",
              "79  2005.02.18    3.26        0.01\n",
              "80  2005.02.19    3.26        0.03\n",
              "81  2005.02.20    3.26        0.07\n",
              "82  2005.02.21    3.26        0.07\n",
              "83  2005.02.22    3.22        0.03\n",
              "84  2005.02.23    3.28        0.03\n",
              "85  2005.02.24    3.27        0.02\n",
              "86  2005.02.25    3.28        0.02\n",
              "87  2005.02.26    3.28        0.04\n",
              "88  2005.02.27    3.28        0.03\n",
              "89  2005.02.28    3.28        0.03\n",
              "90  2005.03.01    3.28        0.03\n",
              "91  2005.03.02    3.28        0.02\n",
              "92  2005.03.03    3.27        0.01\n",
              "93  2005.03.04    3.25        0.00\n",
              "94  2005.03.05    3.25       -0.01\n",
              "95  2005.03.06    3.25        0.03\n",
              "96  2005.03.07    3.17       -0.05\n",
              "97  2005.03.08    3.27        0.05\n",
              "98  2005.03.09    3.27        0.09\n",
              "99  2005.03.10    3.26        0.08\n",
              "\n",
              "[100 rows x 3 columns]"
            ]
          },
          "metadata": {
            "tags": []
          },
          "execution_count": 83
        }
      ]
    },
    {
      "cell_type": "markdown",
      "metadata": {
        "id": "FGRBGYYu6bfw",
        "colab_type": "text"
      },
      "source": [
        "#3. 콜금리 변화값이 양수면 +, 음수면 -, 변화 없으면 0으로 라벨을 붙인다."
      ]
    },
    {
      "cell_type": "code",
      "metadata": {
        "id": "0e0tzHvi6bfx",
        "colab_type": "code",
        "colab": {}
      },
      "source": [
        "myValues = []\n",
        "for c in cPrice2:\n",
        "    if c>0:\n",
        "        myValues.append('+')\n",
        "    elif c==0 :\n",
        "        myValues.append(\"0\")\n",
        "    else:\n",
        "        myValues.append('-')"
      ],
      "execution_count": 0,
      "outputs": []
    },
    {
      "cell_type": "code",
      "metadata": {
        "id": "acNr4yze6bf0",
        "colab_type": "code",
        "colab": {}
      },
      "source": [
        "myCalendar['values'] = myValues"
      ],
      "execution_count": 0,
      "outputs": []
    },
    {
      "cell_type": "code",
      "metadata": {
        "id": "wVFihChj6bf4",
        "colab_type": "code",
        "outputId": "214dc124-bd8c-4670-b634-39134538eb28",
        "colab": {}
      },
      "source": [
        "myCalendar.head()"
      ],
      "execution_count": 0,
      "outputs": [
        {
          "output_type": "execute_result",
          "data": {
            "text/html": [
              "<div>\n",
              "<style scoped>\n",
              "    .dataframe tbody tr th:only-of-type {\n",
              "        vertical-align: middle;\n",
              "    }\n",
              "\n",
              "    .dataframe tbody tr th {\n",
              "        vertical-align: top;\n",
              "    }\n",
              "\n",
              "    .dataframe thead th {\n",
              "        text-align: right;\n",
              "    }\n",
              "</style>\n",
              "<table border=\"1\" class=\"dataframe\">\n",
              "  <thead>\n",
              "    <tr style=\"text-align: right;\">\n",
              "      <th></th>\n",
              "      <th>date</th>\n",
              "      <th>cPrice</th>\n",
              "      <th>cal_cPrice</th>\n",
              "      <th>values</th>\n",
              "    </tr>\n",
              "  </thead>\n",
              "  <tbody>\n",
              "    <tr>\n",
              "      <th>0</th>\n",
              "      <td>2004.12.01</td>\n",
              "      <td>3.26</td>\n",
              "      <td>0.0</td>\n",
              "      <td>0</td>\n",
              "    </tr>\n",
              "    <tr>\n",
              "      <th>1</th>\n",
              "      <td>2004.12.02</td>\n",
              "      <td>3.26</td>\n",
              "      <td>0.0</td>\n",
              "      <td>0</td>\n",
              "    </tr>\n",
              "    <tr>\n",
              "      <th>2</th>\n",
              "      <td>2004.12.03</td>\n",
              "      <td>3.26</td>\n",
              "      <td>0.0</td>\n",
              "      <td>0</td>\n",
              "    </tr>\n",
              "    <tr>\n",
              "      <th>3</th>\n",
              "      <td>2004.12.04</td>\n",
              "      <td>3.26</td>\n",
              "      <td>0.0</td>\n",
              "      <td>0</td>\n",
              "    </tr>\n",
              "    <tr>\n",
              "      <th>4</th>\n",
              "      <td>2004.12.05</td>\n",
              "      <td>3.26</td>\n",
              "      <td>0.0</td>\n",
              "      <td>0</td>\n",
              "    </tr>\n",
              "  </tbody>\n",
              "</table>\n",
              "</div>"
            ],
            "text/plain": [
              "         date  cPrice  cal_cPrice values\n",
              "0  2004.12.01    3.26         0.0      0\n",
              "1  2004.12.02    3.26         0.0      0\n",
              "2  2004.12.03    3.26         0.0      0\n",
              "3  2004.12.04    3.26         0.0      0\n",
              "4  2004.12.05    3.26         0.0      0"
            ]
          },
          "metadata": {
            "tags": []
          },
          "execution_count": 86
        }
      ]
    },
    {
      "cell_type": "code",
      "metadata": {
        "id": "EnXiK4nR6bf7",
        "colab_type": "code",
        "colab": {}
      },
      "source": [
        "myCalendar.to_csv(\"/Users/minhyeon/Desktop/cPrice_final.csv\", header=True, index=False)"
      ],
      "execution_count": 0,
      "outputs": []
    },
    {
      "cell_type": "code",
      "metadata": {
        "id": "i7jIQk7E6bf8",
        "colab_type": "code",
        "outputId": "a7ba3378-5a86-4380-888f-0ee1231b4b00",
        "colab": {}
      },
      "source": [
        "myCalendar.head()"
      ],
      "execution_count": 0,
      "outputs": [
        {
          "output_type": "execute_result",
          "data": {
            "text/html": [
              "<div>\n",
              "<style scoped>\n",
              "    .dataframe tbody tr th:only-of-type {\n",
              "        vertical-align: middle;\n",
              "    }\n",
              "\n",
              "    .dataframe tbody tr th {\n",
              "        vertical-align: top;\n",
              "    }\n",
              "\n",
              "    .dataframe thead th {\n",
              "        text-align: right;\n",
              "    }\n",
              "</style>\n",
              "<table border=\"1\" class=\"dataframe\">\n",
              "  <thead>\n",
              "    <tr style=\"text-align: right;\">\n",
              "      <th></th>\n",
              "      <th>date</th>\n",
              "      <th>cPrice</th>\n",
              "      <th>cal_cPrice</th>\n",
              "      <th>values</th>\n",
              "    </tr>\n",
              "  </thead>\n",
              "  <tbody>\n",
              "    <tr>\n",
              "      <th>0</th>\n",
              "      <td>2004.12.01</td>\n",
              "      <td>3.26</td>\n",
              "      <td>0.0</td>\n",
              "      <td>0</td>\n",
              "    </tr>\n",
              "    <tr>\n",
              "      <th>1</th>\n",
              "      <td>2004.12.02</td>\n",
              "      <td>3.26</td>\n",
              "      <td>0.0</td>\n",
              "      <td>0</td>\n",
              "    </tr>\n",
              "    <tr>\n",
              "      <th>2</th>\n",
              "      <td>2004.12.03</td>\n",
              "      <td>3.26</td>\n",
              "      <td>0.0</td>\n",
              "      <td>0</td>\n",
              "    </tr>\n",
              "    <tr>\n",
              "      <th>3</th>\n",
              "      <td>2004.12.04</td>\n",
              "      <td>3.26</td>\n",
              "      <td>0.0</td>\n",
              "      <td>0</td>\n",
              "    </tr>\n",
              "    <tr>\n",
              "      <th>4</th>\n",
              "      <td>2004.12.05</td>\n",
              "      <td>3.26</td>\n",
              "      <td>0.0</td>\n",
              "      <td>0</td>\n",
              "    </tr>\n",
              "  </tbody>\n",
              "</table>\n",
              "</div>"
            ],
            "text/plain": [
              "         date  cPrice  cal_cPrice values\n",
              "0  2004.12.01    3.26         0.0      0\n",
              "1  2004.12.02    3.26         0.0      0\n",
              "2  2004.12.03    3.26         0.0      0\n",
              "3  2004.12.04    3.26         0.0      0\n",
              "4  2004.12.05    3.26         0.0      0"
            ]
          },
          "metadata": {
            "tags": []
          },
          "execution_count": 88
        }
      ]
    },
    {
      "cell_type": "code",
      "metadata": {
        "id": "VtG6wMkb6bf_",
        "colab_type": "code",
        "outputId": "274aac5f-7dcf-4132-e0e7-76bd841d2035",
        "colab": {}
      },
      "source": [
        "print(myCalendar[4700:4750])"
      ],
      "execution_count": 0,
      "outputs": [
        {
          "output_type": "stream",
          "text": [
            "            date  cPrice  cal_cPrice values\n",
            "4700  2017.10.14    1.25       -0.01      -\n",
            "4701  2017.10.15    1.25        0.00      0\n",
            "4702  2017.10.16    1.25        0.00      0\n",
            "4703  2017.10.17    1.24       -0.01      -\n",
            "4704  2017.10.18    1.24       -0.01      -\n",
            "4705  2017.10.19    1.24        0.00      0\n",
            "4706  2017.10.20    1.24       -0.01      -\n",
            "4707  2017.10.21    1.24       -0.01      -\n",
            "4708  2017.10.22    1.24       -0.01      -\n",
            "4709  2017.10.23    1.24       -0.01      -\n",
            "4710  2017.10.24    1.24       -0.01      -\n",
            "4711  2017.10.25    1.24       -0.02      -\n",
            "4712  2017.10.26    1.25        0.00      0\n",
            "4713  2017.10.27    1.24       -0.02      -\n",
            "4714  2017.10.28    1.24       -0.02      -\n",
            "4715  2017.10.29    1.24       -0.03      -\n",
            "4716  2017.10.30    1.23       -0.04      -\n",
            "4717  2017.10.31    1.26       -0.01      -\n",
            "4718  2017.11.01    1.24       -0.03      -\n",
            "4719  2017.11.02    1.24       -0.03      -\n",
            "4720  2017.11.03    1.24       -0.03      -\n",
            "4721  2017.11.04    1.24       -0.03      -\n",
            "4722  2017.11.05    1.24       -0.03      -\n",
            "4723  2017.11.06    1.23       -0.04      -\n",
            "4724  2017.11.07    1.25       -0.02      -\n",
            "4725  2017.11.08    1.23       -0.04      -\n",
            "4726  2017.11.09    1.24       -0.02      -\n",
            "4727  2017.11.10    1.24        0.00      0\n",
            "4728  2017.11.11    1.24       -0.01      -\n",
            "4729  2017.11.12    1.24       -0.01      -\n",
            "4730  2017.11.13    1.25        0.00      0\n",
            "4731  2017.11.14    1.24       -0.01      -\n",
            "4732  2017.11.15    1.24       -0.01      -\n",
            "4733  2017.11.16    1.24        0.00      0\n",
            "4734  2017.11.17    1.24        0.00      0\n",
            "4735  2017.11.18    1.24        0.00      0\n",
            "4736  2017.11.19    1.24        0.00      0\n",
            "4737  2017.11.20    1.25        0.01      +\n",
            "4738  2017.11.21    1.25        0.01      +\n",
            "4739  2017.11.22    1.24        0.00      0\n",
            "4740  2017.11.23    1.25        0.01      +\n",
            "4741  2017.11.24    1.25        0.01      +\n",
            "4742  2017.11.25    1.25        0.00      0\n",
            "4743  2017.11.26    1.25        0.01      +\n",
            "4744  2017.11.27    1.26        0.02      +\n",
            "4745  2017.11.28    1.26        0.02      +\n",
            "4746  2017.11.29    1.26        0.03      +\n",
            "4747  2017.11.30    1.53        0.27      +\n",
            "4748  2017.12.01    1.53        0.29      +\n",
            "4749  2017.12.02    1.53        0.29      +\n"
          ],
          "name": "stdout"
        }
      ]
    }
  ]
}