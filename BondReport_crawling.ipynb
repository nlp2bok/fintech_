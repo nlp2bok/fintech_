{
  "nbformat": 4,
  "nbformat_minor": 0,
  "metadata": {
    "colab": {
      "name": "BondReport_crawling.ipynb",
      "version": "0.3.2",
      "provenance": [],
      "collapsed_sections": [],
      "include_colab_link": true
    },
    "language_info": {
      "codemirror_mode": {
        "name": "ipython",
        "version": 3
      },
      "file_extension": ".py",
      "mimetype": "text/x-python",
      "name": "python",
      "nbconvert_exporter": "python",
      "pygments_lexer": "ipython3",
      "version": "3.6.5"
    },
    "kernelspec": {
      "display_name": "Python 3",
      "language": "python",
      "name": "python3"
    }
  },
  "cells": [
    {
      "cell_type": "markdown",
      "metadata": {
        "id": "view-in-github",
        "colab_type": "text"
      },
      "source": [
        "<a href=\"https://colab.research.google.com/github/nlp2bok/fintech_/blob/kbk_dev/BondReport_crawling.ipynb\" target=\"_parent\"><img src=\"https://colab.research.google.com/assets/colab-badge.svg\" alt=\"Open In Colab\"/></a>"
      ]
    },
    {
      "cell_type": "code",
      "metadata": {
        "id": "WyVp9vA0-P-k",
        "colab_type": "code",
        "colab": {
          "base_uri": "https://localhost:8080/",
          "height": 125
        },
        "outputId": "42f427b4-c531-4661-d890-4b9a91fe7624"
      },
      "source": [
        "!pip install selenium\n",
        "from bs4 import BeautifulSoup, Comment\n",
        "from urllib.request import urlopen\n",
        "import pandas as pd\n",
        "from selenium import webdriver\n",
        "import time\n",
        "import re\n",
        "from selenium.webdriver.common.by import By\n",
        "from selenium.webdriver.support.ui import WebDriverWait\n",
        "from selenium.webdriver.support import expected_conditions as EC"
      ],
      "execution_count": 1,
      "outputs": [
        {
          "output_type": "stream",
          "text": [
            "Collecting selenium\n",
            "\u001b[?25l  Downloading https://files.pythonhosted.org/packages/80/d6/4294f0b4bce4de0abf13e17190289f9d0613b0a44e5dd6a7f5ca98459853/selenium-3.141.0-py2.py3-none-any.whl (904kB)\n",
            "\u001b[K     |████████████████████████████████| 911kB 1.9MB/s \n",
            "\u001b[?25hRequirement already satisfied: urllib3 in /usr/local/lib/python3.6/dist-packages (from selenium) (1.24.3)\n",
            "Installing collected packages: selenium\n",
            "Successfully installed selenium-3.141.0\n"
          ],
          "name": "stdout"
        }
      ]
    },
    {
      "cell_type": "code",
      "metadata": {
        "id": "VeMaJ7WH-P-s",
        "colab_type": "code",
        "colab": {}
      },
      "source": [
        "driver = webdriver.Chrome(\"C:/Users/user/Desktop/chromedriver.exe\")\n",
        "driver.get(\"https://finance.naver.com/research/debenture_list.nhn?keyword=&brokerCode=&searchType=writeDate&writeFromDate=2017-01-01&writeToDate=2017-12-31&x=42&y=28&page=1\")\n",
        "driver.set_page_load_timeout(30)\n",
        "driver.find_element_by_xpath(\"\"\"//*//*[@id=\"contentarea_left\"]/div[3]/table[2]/tbody/tr/td[1]/a\"\"\").click()\n",
        "time.sleep(2)"
      ],
      "execution_count": 0,
      "outputs": []
    },
    {
      "cell_type": "code",
      "metadata": {
        "id": "iEz0TqRE-P-y",
        "colab_type": "code",
        "colab": {}
      },
      "source": [
        "a= driver.find_element_by_xpath(\"\"\"//*[@id=\"contentarea_left\"]/div[3]/table[1]/tbody/tr[3]/td[3]/a\"\"\")\n",
        "time.sleep(2)"
      ],
      "execution_count": 0,
      "outputs": []
    },
    {
      "cell_type": "code",
      "metadata": {
        "id": "Lwp31Ha7-P-2",
        "colab_type": "code",
        "colab": {}
      },
      "source": [
        "pdf_link = a.get_attribute('href')"
      ],
      "execution_count": 0,
      "outputs": []
    },
    {
      "cell_type": "code",
      "metadata": {
        "id": "NHfGBZwu-P-5",
        "colab_type": "code",
        "colab": {}
      },
      "source": [
        "a_ls= driver.find_elements_by_xpath(\"\"\"//*[@id=\"contentarea_left\"]/div[3]/table[1]//a[@target='_blank']\"\"\")"
      ],
      "execution_count": 0,
      "outputs": []
    },
    {
      "cell_type": "code",
      "metadata": {
        "id": "nWbRnXUJ-P-9",
        "colab_type": "code",
        "colab": {}
      },
      "source": [
        "url = 'https://finance.naver.com/research/debenture_list.nhn?keyword=&brokerCode=&searchType=writeDate&writeFromDate=2005-01-01&writeToDate=2017-12-31&x=52&y=22&page=104'\n",
        "url"
      ],
      "execution_count": 0,
      "outputs": []
    },
    {
      "cell_type": "code",
      "metadata": {
        "id": "sOlV34CN-P_O",
        "colab_type": "code",
        "colab": {}
      },
      "source": [
        "td_name = driver.find_element_by_xpath('''//*[@id=\"contentarea_left\"]/div[3]/table[1]/tbody/tr[3]/td[2]''')\n",
        "time.sleep(2)"
      ],
      "execution_count": 0,
      "outputs": []
    },
    {
      "cell_type": "code",
      "metadata": {
        "id": "ysbeJzsKAWaM",
        "colab_type": "code",
        "colab": {}
      },
      "source": [
        "sec_ls = driver.find_elements_by_xpath(\"\"\"//*[@id=\"contentarea_left\"]/div[3]/table[1]/tbody/tr/td[2]\"\"\")\n",
        "file_ls = driver.find_elements_by_xpath(\"\"\"//*[@id=\"contentarea_left\"]/div[3]/table[1]/tbody/tr/td[3]/a\"\"\")\n",
        "date_ls = driver.find_elements_by_xpath(\"\"\"//*[@id=\"contentarea_left\"]/div[3]/table[1]/tbody/tr/td[4]\"\"\")"
      ],
      "execution_count": 0,
      "outputs": []
    },
    {
      "cell_type": "code",
      "metadata": {
        "scrolled": true,
        "id": "OfdK5stN-P_c",
        "colab_type": "code",
        "colab": {}
      },
      "source": [
        "import requests\n",
        "p = 1\n",
        "for p in range(1,105):\n",
        "    driver.get(\"https://finance.naver.com/research/debenture_list.nhn?keyword=&brokerCode=&searchType=writeDate&writeFromDate=2005-01-01&writeToDate=2017-12-31&x=42&y=28&page=\"+str(p))\n",
        "    for i in range(0,len(sec_ls)) :\n",
        "        sec_ls = driver.find_elements_by_xpath(\"\"\"//*[@id=\"contentarea_left\"]/div[3]/table[1]/tbody/tr/td[2]\"\"\")\n",
        "        file_ls = driver.find_elements_by_xpath(\"\"\"//*[@id=\"contentarea_left\"]/div[3]/table[1]/tbody/tr/td[3]/a\"\"\")\n",
        "        date_ls = driver.find_elements_by_xpath(\"\"\"//*[@id=\"contentarea_left\"]/div[3]/table[1]/tbody/tr/td[4]\"\"\")\n",
        "        title= sec_ls[i].text\n",
        "        content = file_ls[i].get_attribute('href')\n",
        "        date = date_ls[i].text\n",
        "        file = requests.get(pdf_link)\n",
        "        time.sleep(2)\n",
        "        with open(title+'_'+date+'.pdf', 'wb') as f:\n",
        "            f.write(file.content)\n",
        "            p=p+1"
      ],
      "execution_count": 0,
      "outputs": []
    }
  ]
}