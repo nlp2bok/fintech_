{
  "nbformat": 4,
  "nbformat_minor": 0,
  "metadata": {
    "colab": {
      "name": "Data_Preprocessing.ipynb",
      "version": "0.3.2",
      "provenance": [],
      "collapsed_sections": [],
      "include_colab_link": true
    },
    "language_info": {
      "codemirror_mode": {
        "name": "ipython",
        "version": 3
      },
      "file_extension": ".py",
      "mimetype": "text/x-python",
      "name": "python",
      "nbconvert_exporter": "python",
      "pygments_lexer": "ipython3",
      "version": "3.6.5"
    },
    "kernelspec": {
      "display_name": "Python 3",
      "language": "python",
      "name": "python3"
    }
  },
  "cells": [
    {
      "cell_type": "markdown",
      "metadata": {
        "id": "view-in-github",
        "colab_type": "text"
      },
      "source": [
        "<a href=\"https://colab.research.google.com/github/nlp2bok/fintech_/blob/lmh_dev/Data_Preprocessing.ipynb\" target=\"_parent\"><img src=\"https://colab.research.google.com/assets/colab-badge.svg\" alt=\"Open In Colab\"/></a>"
      ]
    },
    {
      "cell_type": "markdown",
      "metadata": {
        "colab_type": "text",
        "id": "VxOdSCvqxtLv"
      },
      "source": [
        "#Data Preprocessing\n",
        " "
      ]
    },
    {
      "cell_type": "markdown",
      "metadata": {
        "colab_type": "text",
        "id": "nPPNzK3o9R13"
      },
      "source": [
        "##. 1. Tokenized"
      ]
    },
    {
      "cell_type": "markdown",
      "metadata": {
        "colab_type": "text",
        "id": "b1l-yKymyDhE"
      },
      "source": [
        "1. 구글 드라이브에서 파일을 읽어와 데이터를 처리한다.(Test)\n",
        "\n",
        " 다량의 데이터를 처리할 때는 Jupyter에서 실행한다.(실제 데이터는 jupyter에서 처리)\n",
        "2. 다양한 Tokenized 방식을 통해 전처리를 실행한다.\n",
        "\n",
        " Komoran, Hannanum,  Okt, Kkma, Mecab\n",
        "3. Token에 한글 태그를 부착한다.\n",
        "4. 불용어 처리를 실행한다.\n",
        "\n",
        "\n",
        "\n"
      ]
    },
    {
      "cell_type": "code",
      "metadata": {
        "colab_type": "code",
        "id": "O5ypPCidxsTt",
        "colab": {}
      },
      "source": [
        "import pandas as pd"
      ],
      "execution_count": 0,
      "outputs": []
    },
    {
      "cell_type": "code",
      "metadata": {
        "colab_type": "code",
        "id": "IBtBJBRw6AGf",
        "colab": {}
      },
      "source": [
        "# 구글드라이브 파일을 읽어들이기 위한 코드\n",
        "!pip install -U -q PyDrive\n",
        "from pydrive.auth import GoogleAuth\n",
        "from pydrive.drive import GoogleDrive\n",
        "from google.colab import auth\n",
        "from oauth2client.client import GoogleCredentials\n",
        "\n",
        "# Authenticate and create the PyDrive client.\n",
        "# 링크 접속 후 구글 계정으로 로그인 -> 인증코드 입력\n",
        "auth.authenticate_user()\n",
        "gauth = GoogleAuth()\n",
        "gauth.credentials = GoogleCredentials.get_application_default()\n",
        "drive = GoogleDrive(gauth)"
      ],
      "execution_count": 0,
      "outputs": []
    },
    {
      "cell_type": "code",
      "metadata": {
        "colab_type": "code",
        "id": "oj06OZgE9qAD",
        "colab": {}
      },
      "source": [
        "#url : 구글드라이브에서 읽어올 파일 주소(파일-> 오른쪽버튼 -> 공유가능한 링크 가져오기)\n",
        "url ='https://drive.google.com/open?id=1rIWL2rfF8bTs3HphgVT37MSyYR-9fN8i'\n",
        "id = url.split('=')[1]\n",
        "print(id)"
      ],
      "execution_count": 0,
      "outputs": []
    },
    {
      "cell_type": "code",
      "metadata": {
        "colab_type": "code",
        "id": "Qcv3MH-X95sH",
        "colab": {}
      },
      "source": [
        "# 파일 리스트 보기\n",
        "%ls"
      ],
      "execution_count": 0,
      "outputs": []
    },
    {
      "cell_type": "code",
      "metadata": {
        "colab_type": "code",
        "id": "zWP6--mc-dfx",
        "colab": {}
      },
      "source": [
        "# 구글 파일 받아오기\n",
        "downloaded = drive.CreateFile({'id':id}) \n",
        "downloaded.GetContentFile('edaily_news1.csv')  "
      ],
      "execution_count": 0,
      "outputs": []
    },
    {
      "cell_type": "code",
      "metadata": {
        "colab_type": "code",
        "id": "L3ByGlU1_rFj",
        "outputId": "43ab2269-dc7c-4ce1-f6f4-98b0d0f15fc9",
        "colab": {
          "base_uri": "https://localhost:8080/",
          "height": 34
        }
      },
      "source": [
        "# 파일 저장(뉴스 데이터 받아오기)\n",
        "ndata = pd.read_csv('edaily_news1.csv', encoding ='cp949')\n",
        "ndata.shape"
      ],
      "execution_count": 0,
      "outputs": [
        {
          "output_type": "execute_result",
          "data": {
            "text/plain": [
              "(692, 3)"
            ]
          },
          "metadata": {
            "tags": []
          },
          "execution_count": 2
        }
      ]
    },
    {
      "cell_type": "code",
      "metadata": {
        "colab_type": "code",
        "id": "GdVGaaAPAlS1",
        "colab": {}
      },
      "source": [
        "df = pd.DataFrame(ndata)"
      ],
      "execution_count": 0,
      "outputs": []
    },
    {
      "cell_type": "code",
      "metadata": {
        "colab_type": "code",
        "id": "a2P3cCrMJ4pj",
        "colab": {}
      },
      "source": [
        "# press, date, content 중 content column만 저장\n",
        "mycontent = df['content']"
      ],
      "execution_count": 0,
      "outputs": []
    },
    {
      "cell_type": "code",
      "metadata": {
        "colab_type": "code",
        "id": "KG-o30pwK9Q8",
        "outputId": "43ec279a-514a-456a-c13f-aadb16fd1ee9",
        "colab": {
          "base_uri": "https://localhost:8080/",
          "height": 54
        }
      },
      "source": [
        "mycontent[0]\n",
        "len(mycontent)"
      ],
      "execution_count": 0,
      "outputs": [
        {
          "output_type": "execute_result",
          "data": {
            "text/plain": [
              "692"
            ]
          },
          "metadata": {
            "tags": []
          },
          "execution_count": 6
        }
      ]
    },
    {
      "cell_type": "markdown",
      "metadata": {
        "colab_type": "text",
        "id": "vdcS1w3k4vtG"
      },
      "source": [
        "기사별 Tokenized한 값을 komoran_tokens, hannanum_tokens, okt_tokens, kkma_tokens로 각각 저장한다.\n"
      ]
    },
    {
      "cell_type": "code",
      "metadata": {
        "colab_type": "code",
        "id": "jNj0GcqU5TY1",
        "colab": {}
      },
      "source": [
        "#출력을 위해서 임시 class \n",
        "class List(list): \n",
        "    def __str__(self): \n",
        "        return \"[\" + \", \".join([\"%s\" % x for x in self]) + \"]\""
      ],
      "execution_count": 0,
      "outputs": []
    },
    {
      "cell_type": "code",
      "metadata": {
        "colab_type": "code",
        "id": "XOZ8VBWLLWoH",
        "colab": {},
        "outputId": "38a75783-402e-4e44-c33a-9f3a34a54960"
      },
      "source": [
        "#코모란(Komoran) 토큰화\n",
        "from konlpy.tag import Komoran\n",
        "komoran = Komoran()\n",
        "komoran_tokens = []\n",
        "for i in range(len(mycontent)):\n",
        "    try:\n",
        "        komoran_tokens.append(komoran.morphs(mycontent[i]))\n",
        "    except:\n",
        "        #이상 데이터 제외\n",
        "        print(i)\n",
        "        "
      ],
      "execution_count": 0,
      "outputs": [
        {
          "output_type": "stream",
          "text": [
            "680\n",
            "681\n",
            "682\n"
          ],
          "name": "stdout"
        }
      ]
    },
    {
      "cell_type": "code",
      "metadata": {
        "colab_type": "code",
        "id": "RB31gCTx4kmk",
        "colab": {}
      },
      "source": [
        "#한나눔(Hannanum) 토큰화\n",
        "from konlpy.tag import Hannanum\n",
        "hannanum = Hannanum()\n",
        "hannanum_tokens = []\n",
        "for i in range(len(mycontent)):\n",
        "    try:\n",
        "        hannanum_tokens.append(hannanum.morphs(mycontent[i]))\n",
        "    except:\n",
        "        #이상 데이터 제외\n",
        "        print(i)"
      ],
      "execution_count": 0,
      "outputs": []
    },
    {
      "cell_type": "code",
      "metadata": {
        "colab_type": "code",
        "id": "9HAFyLrp4kvj",
        "colab": {}
      },
      "source": [
        "#Okt 토큰화\n",
        "from konlpy.tag import Okt\n",
        "okt =Okt()\n",
        "okt_tokens = []\n",
        "for i in range(len(mycontent)):\n",
        "    try:\n",
        "        okt_tokens.append(okt.morphs(mycontent[i]))\n",
        "    except:\n",
        "        #이상 데이터 제외\n",
        "        print(i)"
      ],
      "execution_count": 0,
      "outputs": []
    },
    {
      "cell_type": "code",
      "metadata": {
        "colab_type": "code",
        "id": "qdK27dVb4k3M",
        "colab": {}
      },
      "source": [
        "#Kkma 토큰화\n",
        "from konlpy.tag import Kkma\n",
        "kkma = Kkma()\n",
        "kkma_tokens = []\n",
        "for i in range(len(mycontent)):\n",
        "    try:\n",
        "        kkma_tokens.append(kkma.morphs(mycontent[i]))\n",
        "    except:\n",
        "        #이상 데이터 제외\n",
        "        print(i)"
      ],
      "execution_count": 0,
      "outputs": []
    },
    {
      "cell_type": "code",
      "metadata": {
        "id": "06VmU-xwc-O5",
        "colab_type": "code",
        "colab": {}
      },
      "source": [
        "#Mecab 토큰화\n",
        "#!pip install eunjeon\n",
        "from eunjeon import Mecab\n",
        "mecab = Mecab()\n",
        "mecab_tokens = []\n",
        "for i in range(len(mycontent)):\n",
        "    try:\n",
        "        mecab_tokens.append(mecab.morphs(mycontent[i]))\n",
        "    except:\n",
        "        #이상 데이터 제외\n",
        "        print(i)"
      ],
      "execution_count": 0,
      "outputs": []
    },
    {
      "cell_type": "markdown",
      "metadata": {
        "id": "6__gdFU-c-O8",
        "colab_type": "raw"
      },
      "source": [
        "print(komoran_tokens[1], hannaum_tokens[1], okt_tokens[1], kkma_tokens[1], mecab_tokens[1)"
      ]
    },
    {
      "cell_type": "markdown",
      "metadata": {
        "colab_type": "text",
        "id": "3HFzz3an9B8k"
      },
      "source": [
        "##2. 한글 태그 부착"
      ]
    },
    {
      "cell_type": "code",
      "metadata": {
        "colab_type": "code",
        "id": "cRoAWFMD-PcB",
        "colab": {}
      },
      "source": [
        "# 코모란(Komoran) 품사 태깅\n",
        "komoranTag = []\n",
        "for token in komoran_tokens:\n",
        "    komoranTag += komoran.pos(token)\n",
        "print(komoranTag[:10])\n",
        "\n",
        "# 한나눔(Hannanum) 품사 태깅\n",
        "hannanumTag = []\n",
        "for token in hannanum_tokens:\n",
        "    hannanumTag += hannanum.pos(token)\n",
        "print(hannanumTag[:10])\n",
        "\n",
        "\n",
        "# Okt 품사 태깅\n",
        "oktTag = []\n",
        "for token in okt_tokens:\n",
        "    oktTag += okt.pos(token)\n",
        "print(oktTag[:10])\n",
        "\n",
        "\n",
        "# Kkma 품사 태깅\n",
        "kkmaTag = []\n",
        "for token in kkma_tokens:\n",
        "    kkmaTag += kkma.pos(token)\n",
        "print(kkmaTag[:10])\n"
      ],
      "execution_count": 0,
      "outputs": []
    },
    {
      "cell_type": "markdown",
      "metadata": {
        "colab_type": "text",
        "id": "saZhh7-39Ied"
      },
      "source": [
        "##3. 불용어 처리"
      ]
    },
    {
      "cell_type": "code",
      "metadata": {
        "colab_type": "code",
        "id": "fuzgOSAM9Hzh",
        "colab": {}
      },
      "source": [
        ""
      ],
      "execution_count": 0,
      "outputs": []
    }
  ]
}